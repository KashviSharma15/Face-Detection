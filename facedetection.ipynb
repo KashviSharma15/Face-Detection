{
 "cells": [
  {
   "cell_type": "code",
   "execution_count": null,
   "id": "c1735ad8-e827-4587-a95a-1e34a32a6017",
   "metadata": {},
   "outputs": [
    {
     "name": "stdout",
     "output_type": "stream",
     "text": [
      "label\n",
      "0    3477\n",
      "1    2543\n",
      "Name: count, dtype: int64\n",
      "Epoch 1/10\n"
     ]
    },
    {
     "name": "stderr",
     "output_type": "stream",
     "text": [
      "2025-07-08 17:03:09.374084: W tensorflow/tsl/platform/profile_utils/cpu_utils.cc:128] Failed to get CPU frequency: 0 Hz\n"
     ]
    },
    {
     "name": "stdout",
     "output_type": "stream",
     "text": [
      "  4/151 [..............................] - ETA: 4:30 - loss: 0.8025 - accuracy: 0.4844"
     ]
    }
   ],
   "source": [
    "import streamlit as st\n",
    "from PIL import Image\n",
    "import tempfile\n",
    "from face_detection import predict_image\n",
    "\n",
    "# Streamlit UI (same as before)\n",
    "st.set_page_config(page_title=\"Human Face Detector\", layout=\"centered\")\n",
    "\n",
    "st.markdown(\"\"\"\n",
    "    <style>\n",
    "    .stApp {\n",
    "        background: linear-gradient(to right, #fff4fa, #f3e5f5);\n",
    "        font-family: 'Segoe UI', sans-serif;\n",
    "        padding: 2rem;\n",
    "    }\n",
    "\n",
    "    .main-title {\n",
    "        font-size: 48px;\n",
    "        text-align: center;\n",
    "        color: #6a1b9a;\n",
    "        font-weight: bold;\n",
    "        margin-bottom: 0.3rem;\n",
    "    }\n",
    "\n",
    "    .subtitle {\n",
    "        font-size: 20px;\n",
    "        text-align: center;\n",
    "        color: #7b1fa2;\n",
    "        margin-bottom: 2rem;\n",
    "    }\n",
    "\n",
    "    div[data-baseweb=\"select\"] > div {\n",
    "        border: 2px dashed #d1c4e9 !important;\n",
    "        border-radius: 12px !important;\n",
    "        background-color: #fce4ec !important;\n",
    "    }\n",
    "\n",
    "    label {\n",
    "        font-weight: 600 !important;\n",
    "        color: #6a1b9a !important;\n",
    "    }\n",
    "    </style>\n",
    "\"\"\", unsafe_allow_html=True)\n",
    "\n",
    "st.markdown('<div class=\"main-title\">👤 Human Face Detector</div>', unsafe_allow_html=True)\n",
    "st.markdown('<div class=\"subtitle\">Upload an image or take a photo to check if it contains a human face.</div>', unsafe_allow_html=True)\n",
    "\n",
    "option = st.selectbox(\"Choose input method:\", [\"Upload from File\", \"Capture from Webcam\"])\n",
    "\n",
    "image = None\n",
    "\n",
    "# Image upload/capture\n",
    "if option == \"Upload from File\":\n",
    "    uploaded_file = st.file_uploader(\"Choose an image\", type=[\"png\", \"jpg\", \"jpeg\", \"webp\"])\n",
    "    if uploaded_file:\n",
    "        image = Image.open(uploaded_file).convert(\"RGB\")\n",
    "\n",
    "elif option == \"Capture from Webcam\":\n",
    "    captured_image = st.camera_input(\"Take a picture\")\n",
    "    if captured_image:\n",
    "        image = Image.open(captured_image).convert(\"RGB\")\n",
    "\n",
    "# Prediction\n",
    "if image:\n",
    "    st.image(image, caption=\"Preview\", use_column_width=True)\n",
    "\n",
    "    # Save image to temp file\n",
    "    with tempfile.NamedTemporaryFile(delete=False, suffix=\".png\") as tmp:\n",
    "        image.save(tmp.name)\n",
    "        result = predict_image(tmp.name)\n",
    "\n",
    "    st.markdown(f\"<h3 style='text-align:center; color:#4a148c;'>Prediction: {result}</h3>\", unsafe_allow_html=True)\n",
    "else:\n",
    "    st.info(\"Please upload or capture an image to continue.\")\n"
   ]
  },
  {
   "cell_type": "code",
   "execution_count": null,
   "id": "feb727ca-10fd-4ab7-83c8-cc1ff95f4263",
   "metadata": {},
   "outputs": [],
   "source": []
  }
 ],
 "metadata": {
  "kernelspec": {
   "display_name": "Python [conda env:env]",
   "language": "python",
   "name": "conda-env-env-py"
  },
  "language_info": {
   "codemirror_mode": {
    "name": "ipython",
    "version": 3
   },
   "file_extension": ".py",
   "mimetype": "text/x-python",
   "name": "python",
   "nbconvert_exporter": "python",
   "pygments_lexer": "ipython3",
   "version": "3.8.18"
  }
 },
 "nbformat": 4,
 "nbformat_minor": 5
}
